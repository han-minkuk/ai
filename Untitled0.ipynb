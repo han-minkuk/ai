{
  "nbformat": 4,
  "nbformat_minor": 0,
  "metadata": {
    "colab": {
      "name": "Untitled0.ipynb",
      "provenance": [],
      "authorship_tag": "ABX9TyOiy4FwSrn9v3HasdwEBwDW",
      "include_colab_link": true
    },
    "kernelspec": {
      "name": "python3",
      "display_name": "Python 3"
    }
  },
  "cells": [
    {
      "cell_type": "markdown",
      "metadata": {
        "id": "view-in-github",
        "colab_type": "text"
      },
      "source": [
        "<a href=\"https://colab.research.google.com/github/han-minkuk/ai/blob/master/Untitled0.ipynb\" target=\"_parent\"><img src=\"https://colab.research.google.com/assets/colab-badge.svg\" alt=\"Open In Colab\"/></a>"
      ]
    },
    {
      "cell_type": "markdown",
      "metadata": {
        "id": "o122S1cEYR8w",
        "colab_type": "text"
      },
      "source": [
        ""
      ]
    },
    {
      "cell_type": "markdown",
      "metadata": {
        "id": "Q0oEQ9XJYe8r",
        "colab_type": "text"
      },
      "source": [
        "# 1주차 4가지 활용 분야  \n",
        "*언어 - 챗봇을 활용한 시장, AI 대화창을 이용한 상담\n",
        "\n",
        "*음성 - 음성스피커를 시장, 기가지니, 구글홈\n",
        "\n",
        "*이미지 - 이미지 분석 , 와인분석이나 닮은얼굴 찾기\n",
        "\n",
        "*자율주행 -  차량 자율주행, 드론 택배 "
      ]
    }
  ]
}